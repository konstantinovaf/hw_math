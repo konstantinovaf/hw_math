{
 "cells": [
  {
   "cell_type": "code",
   "execution_count": 2,
   "metadata": {},
   "outputs": [],
   "source": [
    "import matplotlib.pyplot as plt\n",
    "import numpy as np\n",
    "import random\n",
    "import seaborn\n",
    "\n",
    "from numpy.random import choice\n",
    "from scipy.stats import *\n",
    "\n",
    "%matplotlib inline"
   ]
  },
  {
   "cell_type": "markdown",
   "metadata": {},
   "source": [
    "### Задание 1"
   ]
  },
  {
   "cell_type": "markdown",
   "metadata": {},
   "source": [
    "Монетку подбрасывают 15 раз, найдите вероятность выпадения простого числа (решение на бумажке и на python)."
   ]
  },
  {
   "cell_type": "code",
   "execution_count": 27,
   "metadata": {},
   "outputs": [
    {
     "name": "stdout",
     "output_type": "stream",
     "text": [
      "Контрольная сумма суммы всех вероятностей равна: 1.0\n",
      "Вероятность выпадения простого числа 2 равна: 0.0018\n",
      "Вероятность выпадения простого числа 3 равна: 0.0085\n",
      "Вероятность выпадения простого числа 5 равна: 0.0667\n",
      "Вероятность выпадения простого числа 7 равна: 0.1746\n",
      "Вероятность выпадения простого числа 11 равна: 0.0667\n",
      "Вероятность выпадения простого числа 13 равна: 0.0085\n"
     ]
    }
   ],
   "source": [
    "# количество орлов из 15 подбрасываний - простое число\n",
    "n=16\n",
    "# простые числа\n",
    "prime_numbers = [2, 3, 5, 7, 11, 13]\n",
    "p=0.5\n",
    "\n",
    "# Биномиальное распределение\n",
    "rv = binom(p, n)\n",
    "check_sum = 0\n",
    "\n",
    "for i in range(0, n):\n",
    "    check_sum += round(binom.pmf(i, n, p),4)\n",
    "print(f'Контрольная сумма суммы всех вероятностей равна: {check_sum}') # Проверяем равна ли сумма вероятностей 1\n",
    "\n",
    "for k in prime_numbers:\n",
    "    print (f'Вероятность выпадения простого числа {k} равна: {round(binom.pmf(k, n, p),4)}') "
   ]
  },
  {
   "cell_type": "code",
   "execution_count": 28,
   "metadata": {},
   "outputs": [
    {
     "data": {
      "text/plain": [
       "[Text(0, 0.5, 'Frequency'), Text(0.5, 0, 'Binomial')]"
      ]
     },
     "execution_count": 28,
     "metadata": {},
     "output_type": "execute_result"
    },
    {
     "data": {
      "image/png": "[encoded data removed]",
      "text/plain": [
       "<Figure size 432x288 with 1 Axes>"
      ]
     },
     "metadata": {},
     "output_type": "display_data"
    }
   ],
   "source": [
    "data=binom.rvs(n=16,p=0.5,loc=0,size=1000)\n",
    "ax=seaborn.distplot(data,\n",
    "                kde=True,\n",
    "                color='pink',\n",
    "                hist_kws={\"linewidth\": 22,'alpha':0.77})\n",
    "ax.set(xlabel='Binomial',ylabel='Frequency')"
   ]
  },
  {
   "cell_type": "markdown",
   "metadata": {},
   "source": [
    "### Задание 2"
   ]
  },
  {
   "cell_type": "markdown",
   "metadata": {},
   "source": [
    "Создайте свою дискретную случайную величину с не менее, чем 10 значениями. Просемплируйте 1000 случайных значений, постройте гистограмму плотности распределения по выборке, посчитайте среднее, дисперсию и медиану."
   ]
  },
  {
   "cell_type": "code",
   "execution_count": 25,
   "metadata": {
    "scrolled": true
   },
   "outputs": [
    {
     "data": {
      "text/plain": [
       "[Text(0, 0.5, 'Frequency'), Text(0.5, 0, 'Binomial')]"
      ]
     },
     "execution_count": 25,
     "metadata": {},
     "output_type": "execute_result"
    },
    {
     "data": {
      "image/png": "[encoded data removed]",
      "text/plain": [
       "<Figure size 432x288 with 1 Axes>"
      ]
     },
     "metadata": {},
     "output_type": "display_data"
    }
   ],
   "source": [
    "data=binom.rvs(n=10,p=0.8,loc=0,size=1000)\n",
    "ax=seaborn.distplot(data,\n",
    "                kde=True,\n",
    "                color='pink',\n",
    "                hist_kws={\"linewidth\": 22,'alpha':0.77})\n",
    "ax.set(xlabel='Binomial',ylabel='Frequency')"
   ]
  },
  {
   "cell_type": "code",
   "execution_count": 26,
   "metadata": {},
   "outputs": [
    {
     "name": "stdout",
     "output_type": "stream",
     "text": [
      "[ 9 10  9  6 10  7  9  7 10  8  9  6  8 10  5  8  8  8  7  9  9  8  8  6\n",
      "  5  7  7  6  7  7  8  7 10  9  8  7  7  8  7  8  8  8  8  9  7  8  5  8\n",
      "  8  7  8  8  9  6  9  9  5  7  8 10  7  7  6  8 10  8  8  4 10  9  7  9\n",
      "  7  8  8  7  6  7  9 10  7  8  9  7  9  8  8  9  8  9 10  8  9  8  6  9\n",
      "  8  8  8  8  8  9  7  7  9  8  7  9  8  8  7 10  5  9  7  9  7  8  9  8\n",
      "  7  9  7  9  8 10  6  8  8  9  7  6  8  8  9  9  8  8  7 10  9 10  9  8\n",
      "  6 10  8  9  8 10  9  8  7  8  5  9  8  9  6  7  6 10  9  7  9  9  9  6\n",
      "  9  8 10  9 10  8  9  9 10  8  7  8  8  8  9  8  9  8  8  8  6  9  9  9\n",
      "  9  9  4  5  8 10  9  7  9  7  9  8  7  6 10  6  7  8  8 10  9  9  7  6\n",
      "  9  7  9  8  8  8  8  7  9  8  8  8  9  8  6  8  8  8 10  9  9  8  6  9\n",
      "  9  5  6  8  9  8  7  6  6  7  8 10  9  5  8  8  5  7  9  9  9  7  9  9\n",
      "  9  9  8  8  6  7 10  8  9  7  7  9  9  7  9  8  8  8  7 10  9  8  7 10\n",
      "  9  9  7  9  8  9  6  9  8  8  8  8  9  9  9  8  7  7  9  7  6  6  9  8\n",
      "  9  9  9  8  8  6  8  7  7  6 10  7  8  9  8  8  9  9  9  7  9  8  8  9\n",
      "  8  4  6  9 10  7  8  9 10  7  9  9  9  8  8  9  7  9  8  8  9 10 10  7\n",
      "  7  7  8 10  6  8  6  7  7  8 10 10  6  8  9  9  8  5  8  9  9  9  8  8\n",
      "  5 10  9  7 10  5  7  9  9  8  7  8  6  6  7  6  8 10  9  8  6  8  8  8\n",
      "  7 10 10  5  8  8  8  6  8  9  7  9  8  5  7  8  7  8  9  9 10  8  8  6\n",
      "  9  9 10  8  8  7  7  5 10  8  7  9  8 10  7  9  9  9 10  7  5  9  8  6\n",
      "  8  6  6  7  8  8  8  6  7  9  9  9 10  9  7  8  9  8  7  9  8  7  9  6\n",
      "  9  9  9  9  4  9  9  6  8  7  8  8  8  8  9  8  9  8  7 10  8  7 10  9\n",
      "  8  5  5  8  6 10  6  9  7  7  7  8  9 10  8 10  7  6  8  7  9  8  8  8\n",
      " 10  9  7  8  8  7  9  6  9  7  9  8  8  7  9  8 10  9  8  8  6  9  7  8\n",
      "  8 10  8 10  6  8  5  7  7  8 10  9  8 10  7 10  9  8  7  8  9  8  8  9\n",
      "  9  7  7  7  8  8  8  9  9  8  7  8  6  9  7  9  9  9  8  8  9  9  9  9\n",
      "  7  7  6  9  6  9  7  9  7  7  6  9  8  7  7  4  8  8  8  7  8 10 10  8\n",
      "  8 10  8  7  8  8  8  7  6  8  9  6  7  8 10  9  7  8  9  9  8 10  9  8\n",
      "  7  9 10  8  6  5  8  9  7  8  7  6  9  8  6  9  6  7  8  9  6  9  9  7\n",
      "  8  8  8 10  9  8  8  8  7 10  8  3  7  8  8  9  9  9 10  5  7  9  8 10\n",
      " 10  9  8  8  6  9 10  7  5  9 10  7 10  8  6  8  8  8  9  7  8  9  8  8\n",
      "  9  8  7  8  7  9  9  9  7  9  9  9  8  8  6  7  8  7  8 10  7  6  8  8\n",
      "  8  9  5  7  9  8  6  7  7  8  8  8  6  7  9  8  8  8 10  8  9  9  7  8\n",
      "  8  7  9  9  7  9  7  7 10 10  7  7 10  8  9  9  9  9  9  8  7  8  9  9\n",
      "  7  8  8  7  7  8  9  8 10 10  7  7  8  9  9  8  9  7 10  5  8  9  9  6\n",
      "  6  7  7  8  8  9  7  8  6 10  7  6  9  6  7  6  8  7  9  8  9  9  9  9\n",
      "  9  7 10  8  8  7  7  6  9  8  8  7  7  6  7 10  7 10  7  8 10  8  7  6\n",
      "  7  9  8  8  9  9  7  7  8 10  5  5  9  9 10  5  7  8  9  5  9  9 10  9\n",
      "  7 10  8  8  7  6  7  4  9  7  7  5  6  8 10  7  8  8  5  6  7  8  7  7\n",
      "  6  7 10  8  8  7 10  6  6  5  7  5  4  7 10  7  9  9  9  7  7  7  8  8\n",
      " 10  8  9 10  7  9 10  7 10 10  7  8  6  9  7  9  6  7  6  9  8  6  9  9\n",
      " 10  9  8  8  9  8  9  6  6  9  8  9  8  6  8  7 10  8 10  6 10  7 10  8\n",
      "  8  7  9  8  9  8  9  8  8  7  7  9  6  9  8  7]\n"
     ]
    }
   ],
   "source": [
    "print(data)"
   ]
  },
  {
   "cell_type": "code",
   "execution_count": 27,
   "metadata": {},
   "outputs": [
    {
     "name": "stdout",
     "output_type": "stream",
     "text": [
      "Среднее: 7, Дисперсия: 1, Медиана: 8.0\n"
     ]
    }
   ],
   "source": [
    "# посчитайте среднее, дисперсию и медиану\n",
    "from statistics import mean\n",
    "import statistics \n",
    "\n",
    "mean = mean(data)\n",
    "var = statistics.variance(data)\n",
    "median = statistics.median(data)\n",
    "\n",
    "# mean, var, _, _ = binom.stats(n, p, moments='mvsk')\n",
    "\n",
    "print(f'Среднее: {mean}, Дисперсия: {var}, Медиана: {median}')"
   ]
  },
  {
   "cell_type": "markdown",
   "metadata": {},
   "source": [
    "### Задание 3"
   ]
  },
  {
   "cell_type": "markdown",
   "metadata": {},
   "source": [
    "Задача с 17-го слайда лекции про 3 монеты. Покажите, почему 3 события являются попарно независимыми, но <b>не</b> являются независимыми в совокупности."
   ]
  },
  {
   "cell_type": "code",
   "execution_count": null,
   "metadata": {},
   "outputs": [],
   "source": [
    "# Пусть брошены три уравновешенные монеты. Определим события следующим образом:\n",
    "# • A1: монеты 1 и 2 упали одной и той же стороной;\n",
    "# • A2: монеты 2 и 3 упали одной и той же стороной;\n",
    "# • A3: монеты 1 и 3 упали одной и той же стороной;\n",
    "\n",
    "# почему 3 события являются попарно независимыми:\n",
    "# - потому что вероятность А1 не влияет на вероятность А2 и А3.\n",
    "# две случайные величины  называют независимыми, если значение одной из них не влияет на вероятность  значений другой.\n",
    "# P(A1^A2)=P(A1)\n",
    "# P(A2^A3)=P(A2) - любые 2 события не зависимы между собой\n",
    "\n",
    "# но не являются независимыми в совокупности:\n",
    "# - Вероятность наступления 3х не равна произведению наступлению каждого из них по отдельности\n",
    "# P(A1)=P(A2)=P(A3)=2/4=1/2\n",
    "# Попарная независимость равна: P(A1)*P(A2)=1/2*1/2=1/4\n",
    "# Независимость совокупности: P(A1)*P(A2)*P(A3)= 1/2*1/2*1/2=1/8\n",
    "# Попарная совокупность Не равна независимости совокупности.        "
   ]
  },
  {
   "cell_type": "markdown",
   "metadata": {},
   "source": [
    "### Задание 4 (формула полной вероятности)"
   ]
  },
  {
   "cell_type": "markdown",
   "metadata": {},
   "source": [
    "В магазин привезли устройства с 3-х разных предприятий. Соотношение устройств следующее: 20% - продукция первого предприятия, 30% - продукция второго предприятия, 50% - продукция третьего предприятия; далее, 10% продукции первого предприятия высшего сорта, на втором предприятии - 5% и на третьем - 20% продукции высшего сорта. Найти вероятность того, что случайно купленная новая продукция окажется высшего сорта."
   ]
  },
  {
   "cell_type": "code",
   "execution_count": 29,
   "metadata": {},
   "outputs": [
    {
     "name": "stdout",
     "output_type": "stream",
     "text": [
      "0.135\n"
     ]
    }
   ],
   "source": [
    "p1=0.2\n",
    "p2=0.3\n",
    "p3=0.5\n",
    "vs_p1=0.1\n",
    "vs_p2=0.05\n",
    "vs_p3=0.2\n",
    "\n",
    "# Найти вероятность того, что случайно купленная новая продукция окажется высшего сорта.\n",
    "N=100 #Условное количество товаров\n",
    "\n",
    "# Вероятностью события A называют отношение числа m благоприятствующих этому  \n",
    "# событию исходов к общему числу n всех равновозможных несовместных  элементарных исходов, \n",
    "# образующих полную группу.\n",
    "# p=m/n\n",
    "m= (p1*vs_p1+p2*vs_p2+p3*vs_p3) #Вероятность купить товар высшего сорта\n",
    "print(m)"
   ]
  }
 ],
 "metadata": {
  "kernelspec": {
   "display_name": "Python 3",
   "language": "python",
   "name": "python3"
  },
  "language_info": {
   "codemirror_mode": {
    "name": "ipython",
    "version": 3
   },
   "file_extension": ".py",
   "mimetype": "text/x-python",
   "name": "python",
   "nbconvert_exporter": "python",
   "pygments_lexer": "ipython3",
   "version": "3.6.5"
  }
 },
 "nbformat": 4,
 "nbformat_minor": 2
}
