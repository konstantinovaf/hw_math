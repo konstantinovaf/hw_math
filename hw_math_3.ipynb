{
 "cells": [
  {
   "cell_type": "markdown",
   "metadata": {},
   "source": [
    "Задание 1:¶\n",
    "Придумайте матрицы, которые обладают следующими свойствами:\n",
    "P.S. Во всех пунктах ответом должна быть ненулевая матрица размерности не менее 2!"
   ]
  },
  {
   "cell_type": "code",
   "execution_count": 2,
   "metadata": {},
   "outputs": [],
   "source": [
    "import numpy as np\n",
    "import pylab as pl\n",
    "import warnings\n",
    "\n",
    "from matplotlib import pyplot as plt\n",
    "from scipy import linalg\n",
    "from sklearn.datasets import load_digits\n",
    "from sklearn.decomposition import TruncatedSVD\n",
    "from sklearn.ensemble import RandomForestClassifier\n",
    "warnings.filterwarnings(\"ignore\")"
   ]
  },
  {
   "cell_type": "code",
   "execution_count": 3,
   "metadata": {},
   "outputs": [
    {
     "name": "stdout",
     "output_type": "stream",
     "text": [
      "[[0.5 0.  0. ]\n",
      " [0.  0.5 0. ]\n",
      " [0.  0.  0.5]]\n"
     ]
    }
   ],
   "source": [
    "# a) диагональная, ортогональная, но не единичная(!):\n",
    "\n",
    "diag = np.array([[0.5, 0, 0], \n",
    "                 [0, 0.5, 0], \n",
    "                 [0, 0, 0.5]\n",
    "                ]\n",
    "               )\n",
    "print(diag)"
   ]
  },
  {
   "cell_type": "code",
   "execution_count": 4,
   "metadata": {
    "scrolled": true
   },
   "outputs": [
    {
     "name": "stdout",
     "output_type": "stream",
     "text": [
      "[[0.5 0.5 0.5]\n",
      " [0.  0.5 0.5]\n",
      " [0.  0.  0.5]]\n"
     ]
    }
   ],
   "source": [
    "# b) верхнетреугольная, ортогональная:\n",
    "top_corner = np.array([[0.5, 0.5, 0.5], \n",
    "                 [0, 0.5, 0.5], \n",
    "                 [0, 0, 0.5]\n",
    "                ]\n",
    "               )\n",
    "print(top_corner)\n"
   ]
  },
  {
   "cell_type": "code",
   "execution_count": 5,
   "metadata": {},
   "outputs": [
    {
     "name": "stdout",
     "output_type": "stream",
     "text": [
      "[[0.5 0.  0. ]\n",
      " [0.5 0.5 0. ]\n",
      " [0.5 0.5 0.5]]\n"
     ]
    }
   ],
   "source": [
    "# c) нижнетреугольная, ортогональная:\n",
    "bottom_corner = np.array([[0.5, 0, 0], \n",
    "                 [0.5, 0.5, 0], \n",
    "                 [0.5, 0.5, 0.5]\n",
    "                ]\n",
    "               )\n",
    "print(bottom_corner)"
   ]
  },
  {
   "cell_type": "code",
   "execution_count": 6,
   "metadata": {},
   "outputs": [
    {
     "name": "stdout",
     "output_type": "stream",
     "text": [
      "[[1 1]\n",
      " [1 2]]\n",
      "Детерминант равен: 1.0\n"
     ]
    }
   ],
   "source": [
    "# d) матрица, у которой определитель = 1, и все элементы не равны 0:\n",
    "import numpy as np\n",
    "mat2_det1 = np.array([[1, 1],[1, 2]])\n",
    "\n",
    "print(mat2_det1)\n",
    "print (f\"Детерминант равен: {np.linalg.det(mat2_det1)}\")"
   ]
  },
  {
   "cell_type": "code",
   "execution_count": 7,
   "metadata": {},
   "outputs": [
    {
     "name": "stdout",
     "output_type": "stream",
     "text": [
      "[[2 1 1]\n",
      " [1 2 1]\n",
      " [1 1 1]]\n",
      "Детерминант равен: 1.0\n"
     ]
    }
   ],
   "source": [
    "# e) матрица (3x3), у которой определитель = 1:\n",
    "mat_3_det1 = np.array([[2, 1, 1], \n",
    "                       [1, 2, 1], \n",
    "                       [1, 1, 1]\n",
    "                ]\n",
    "               )\n",
    "\n",
    "print(mat_3_det1)\n",
    "print (f\"Детерминант равен: {np.linalg.det(mat_3_det1)}\")"
   ]
  },
  {
   "cell_type": "markdown",
   "metadata": {},
   "source": [
    "Задание 2:\n",
    "Найдите собственные значения и собственные вектора матриц (необходимо решение на numpy и честное решение на бумаге:)"
   ]
  },
  {
   "cell_type": "code",
   "execution_count": 8,
   "metadata": {},
   "outputs": [
    {
     "name": "stdout",
     "output_type": "stream",
     "text": [
      "[[2 2]\n",
      " [1 3]]\n"
     ]
    }
   ],
   "source": [
    "m = np.array([[2, 2],\n",
    "              [1, 3]])\n",
    "print(m)"
   ]
  },
  {
   "cell_type": "code",
   "execution_count": 9,
   "metadata": {},
   "outputs": [],
   "source": [
    "# Расчет\n",
    "# (2-L)*(3-L)-2*1=0\n",
    "# L^2-5L+4=0\n",
    "# Собственные значения равны:\n",
    "# L1=1, L2=4\n",
    "\n",
    "# L1:\n",
    "# (2-1)*x+2y = 0\n",
    "# (1)*x +(3-1)*y = 0\n",
    "# x=-2y\n",
    "\n",
    "# L2:\n",
    "# (2-4)*x+2y = 0\n",
    "# (1)*x +(3-4)*y = 0\n",
    "# x=y  \n",
    "\n",
    "# Собственные вектора матриц равны:\n",
    "u1 = np.array([[-2, 1]])\n",
    "u2 = np.array([[1, 1]])\n",
    "\n",
    "# собственные значения\n",
    "L1 = 1\n",
    "L2 = 4\n"
   ]
  },
  {
   "cell_type": "code",
   "execution_count": 10,
   "metadata": {},
   "outputs": [
    {
     "data": {
      "text/plain": [
       "(array([1., 4.]), array([[-0.89442719, -0.70710678],\n",
       "        [ 0.4472136 , -0.70710678]]))"
      ]
     },
     "execution_count": 10,
     "metadata": {},
     "output_type": "execute_result"
    }
   ],
   "source": [
    "# Собственные вектора методом NumPy получились другие. В интернете нашел, что они коллинеарны. Но не знаю как проверить\n",
    "np.linalg.eig(m)\n",
    "# Вопрос к преподавателю: По какому принципу eig() выбирает какие значения выводить \n",
    "# в качестве собственных векторов матрицы?"
   ]
  },
  {
   "cell_type": "code",
   "execution_count": 11,
   "metadata": {},
   "outputs": [],
   "source": [
    "# from numpy import linalg as LA\n",
    "# v[:,1] = LA.eig(m)"
   ]
  },
  {
   "cell_type": "code",
   "execution_count": 12,
   "metadata": {},
   "outputs": [
    {
     "name": "stdout",
     "output_type": "stream",
     "text": [
      "[[ 4  1 -1]\n",
      " [ 1  4 -1]\n",
      " [-1 -1  4]]\n"
     ]
    },
    {
     "data": {
      "text/plain": [
       "(array([6., 3., 3.]), array([[-0.57735027, -0.81649658,  0.15430335],\n",
       "        [-0.57735027,  0.40824829,  0.6172134 ],\n",
       "        [ 0.57735027, -0.40824829,  0.77151675]]))"
      ]
     },
     "execution_count": 12,
     "metadata": {},
     "output_type": "execute_result"
    }
   ],
   "source": [
    "# Для данного примера в честном решении можно \"угадать\" корни многочлена 3-ей степени, посмотрев на решение на numpy\n",
    "m3 = np.array([[4, 1, -1],\n",
    "              [1, 4, -1],\n",
    "              [-1, -1, 4]])\n",
    "print(m3)\n",
    "np.linalg.eig(m3)\n",
    "# Корни многочлена 6, 3, 3"
   ]
  },
  {
   "cell_type": "markdown",
   "metadata": {},
   "source": [
    "Задание 3:\n",
    "Найдите спектральное разложение матрицы (честное решение на бумаге и на numpy)"
   ]
  },
  {
   "cell_type": "code",
   "execution_count": 13,
   "metadata": {},
   "outputs": [
    {
     "name": "stdout",
     "output_type": "stream",
     "text": [
      "[[1 2]\n",
      " [2 3]]\n"
     ]
    }
   ],
   "source": [
    "m = np.array([[1, 2],\n",
    "              [2,3]])\n",
    "print(m)\n",
    "\n"
   ]
  },
  {
   "cell_type": "code",
   "execution_count": 20,
   "metadata": {},
   "outputs": [
    {
     "name": "stdout",
     "output_type": "stream",
     "text": [
      "Eigenvalues:\n",
      "[-0.23606798+0.j  4.23606798+0.j]\n",
      "\n",
      "Eigenvectors:\n",
      "[[-0.85 -0.53]\n",
      " [0.53 -0.85]]\n"
     ]
    }
   ],
   "source": [
    "a, U = linalg.eig(m)\n",
    "print('Eigenvalues:')\n",
    "print(a)\n",
    "print('\\nEigenvectors:')\n",
    "print(U)"
   ]
  },
  {
   "cell_type": "code",
   "execution_count": 21,
   "metadata": {},
   "outputs": [
    {
     "name": "stdout",
     "output_type": "stream",
     "text": [
      "[[-0.17082039+0.j -0.        +0.j]\n",
      " [-0.        +0.j  3.06524758-0.j]]\n"
     ]
    }
   ],
   "source": [
    "print(U * np.diag(a) * U.T)"
   ]
  },
  {
   "cell_type": "markdown",
   "metadata": {},
   "source": [
    "Задание 4:\n",
    "Для примера из лекции постройте график зависимости oob_score RandomForestClassifier от количества компонент при сжатии с помощью SVD"
   ]
  },
  {
   "cell_type": "code",
   "execution_count": 130,
   "metadata": {},
   "outputs": [],
   "source": [
    "import numpy as np\n",
    "import pylab as pl\n",
    "import warnings\n",
    "\n",
    "from matplotlib import pyplot as plt\n",
    "from scipy import linalg\n",
    "from sklearn.datasets import load_digits\n",
    "from sklearn.decomposition import TruncatedSVD\n",
    "from sklearn.ensemble import RandomForestClassifier\n",
    "warnings.filterwarnings(\"ignore\")"
   ]
  },
  {
   "cell_type": "code",
   "execution_count": 131,
   "metadata": {},
   "outputs": [],
   "source": [
    "float_formatter = lambda x: \"%.2f\" % x\n",
    "np.set_printoptions(formatter={'float_kind':float_formatter})"
   ]
  },
  {
   "cell_type": "code",
   "execution_count": 132,
   "metadata": {},
   "outputs": [
    {
     "name": "stdout",
     "output_type": "stream",
     "text": [
      "(1797, 64)\n",
      "(1797,)\n"
     ]
    }
   ],
   "source": [
    "X, y = load_digits(return_X_y=True)\n",
    "\n",
    "print(X.shape)\n",
    "print(y.shape)"
   ]
  },
  {
   "cell_type": "code",
   "execution_count": 133,
   "metadata": {
    "scrolled": true
   },
   "outputs": [
    {
     "data": {
      "image/png": "[encoded data removed]",
      "text/plain": [
       "<Figure size 288x288 with 1 Axes>"
      ]
     },
     "metadata": {},
     "output_type": "display_data"
    }
   ],
   "source": [
    "image = X[0]\n",
    "image = image.reshape((8, 8))\n",
    "plt.matshow(image, cmap = 'gray')\n",
    "plt.show()"
   ]
  },
  {
   "cell_type": "code",
   "execution_count": 134,
   "metadata": {},
   "outputs": [
    {
     "data": {
      "text/plain": [
       "0.028708507745601956"
      ]
     },
     "execution_count": 134,
     "metadata": {},
     "output_type": "execute_result"
    }
   ],
   "source": [
    "svd = TruncatedSVD(n_components=1)\n",
    "X_reduced = svd.fit_transform(X)\n",
    "svd.explained_variance_ratio_.sum()"
   ]
  },
  {
   "cell_type": "code",
   "execution_count": 135,
   "metadata": {},
   "outputs": [
    {
     "data": {
      "text/plain": [
       "0.11463550361713967"
      ]
     },
     "execution_count": 135,
     "metadata": {},
     "output_type": "execute_result"
    }
   ],
   "source": [
    "rf_reduced = RandomForestClassifier(oob_score=True)\n",
    "rf_reduced.fit(X_reduced, y)\n",
    "rf_reduced.oob_score_"
   ]
  },
  {
   "cell_type": "code",
   "execution_count": 136,
   "metadata": {},
   "outputs": [],
   "source": [
    "import matplotlib.pyplot as plt\n",
    "\n",
    "from collections import OrderedDict\n",
    "from sklearn.datasets import make_classification\n",
    "from sklearn.ensemble import RandomForestClassifier\n",
    "\n",
    "# Map a classifier name to a list of (<n_estimators>, <error rate>) pairs.\n",
    "oob_score_main = []\n",
    "\n",
    "# Range of `n_components` values to explore.\n",
    "min_components = 1\n",
    "max_components = 63\n",
    "\n"
   ]
  },
  {
   "cell_type": "code",
   "execution_count": 137,
   "metadata": {
    "scrolled": true
   },
   "outputs": [],
   "source": [
    "# Создаем цикл по перебору количества компонент для упрощения\n",
    "for i in range(min_components, max_components+1):\n",
    "        svd = TruncatedSVD(n_components=i)\n",
    "        X_reduced = svd.fit_transform(X)\n",
    "        rf_reduced = RandomForestClassifier(oob_score=True)\n",
    "        rf_reduced.fit(X_reduced, y)\n",
    "        oob_score_1 = rf_reduced.oob_score_\n",
    "        oob_score_main.append((i, oob_score_1))\n",
    "# print(error_rate)\n",
    "\n",
    "# Convert a list of tuple to dictionary\n",
    "oob_score_dict = dict(oob_score_main)"
   ]
  },
  {
   "cell_type": "code",
   "execution_count": 138,
   "metadata": {
    "scrolled": false
   },
   "outputs": [
    {
     "data": {
      "image/png": "[encoded data removed]",
      "text/plain": [
       "<Figure size 1440x720 with 1 Axes>"
      ]
     },
     "metadata": {},
     "output_type": "display_data"
    }
   ],
   "source": [
    "# Формируем график\n",
    "import matplotlib.pylab as plt\n",
    "\n",
    "lists = sorted(oob_score_dict.items()) # sorted by key, return a list of tuples\n",
    "x, y = zip(*lists) # unpack a list of pairs into two tuples\n",
    "\n",
    "plt.figure(figsize=(20,10))\n",
    "plt.plot(x, y, Label = 'OOB Score VS N_components')\n",
    "plt.xlim(min_components, max_components)\n",
    "plt.xlabel(\"n_components\")\n",
    "plt.ylabel(\"OOB score rate\")\n",
    "plt.legend()\n",
    "plt.grid(True)\n",
    "plt.title('График зависимости oob_score RandomForestClassifier от количества компонент')\n",
    "plt.show()\n"
   ]
  }
 ],
 "metadata": {
  "kernelspec": {
   "display_name": "Python 3",
   "language": "python",
   "name": "python3"
  },
  "language_info": {
   "codemirror_mode": {
    "name": "ipython",
    "version": 3
   },
   "file_extension": ".py",
   "mimetype": "text/x-python",
   "name": "python",
   "nbconvert_exporter": "python",
   "pygments_lexer": "ipython3",
   "version": "3.6.5"
  }
 },
 "nbformat": 4,
 "nbformat_minor": 2
}
