{
 "cells": [
  {
   "cell_type": "code",
   "execution_count": 20,
   "metadata": {},
   "outputs": [],
   "source": [
    "import matplotlib.pyplot as plt\n",
    "import numpy as np\n",
    "\n",
    "from mpl_toolkits.mplot3d import Axes3D\n",
    "from matplotlib import cm\n",
    "from matplotlib.ticker import LinearLocator, FormatStrFormatter\n",
    "from scipy.optimize import minimize\n",
    "from scipy.optimize import approx_fprime\n",
    "\n",
    "%matplotlib inline"
   ]
  },
  {
   "cell_type": "markdown",
   "metadata": {},
   "source": [
    "### Задание 1: \n",
    "Посчитайте частные производные функций в точках\n",
    "(как обычно, необходимо решение на бумажке или в LaTeX и на numpy):"
   ]
  },
  {
   "cell_type": "markdown",
   "metadata": {},
   "source": [
    "1) $f(x,y)=2x^2y^3 + 1/x + y^2x + 7$ в точке $(1,2)$\n",
    "\n",
    "2) $f(x,y)=x^2y - sin(xy) + cos(x^2) + 6y$"
   ]
  },
  {
   "cell_type": "code",
   "execution_count": 21,
   "metadata": {},
   "outputs": [
    {
     "name": "stdout",
     "output_type": "stream",
     "text": [
      "Производная функции по x: 4*x*y**3 + y**2 - 1/x**2\n",
      "Производная функции по y: 6*x**2*y**2 + 2*x*y\n"
     ]
    }
   ],
   "source": [
    "# 1) \n",
    "\n",
    "# в ручную\n",
    "# dx = 4x(y**3)+(y**2)-1/(x**2)\n",
    "# dy = 6(x**2)*(y**2)+2*x*y\n",
    "\n",
    "# Производная функции в заданной точке (1,2)\n",
    "# f'(x)(1,2)=4*1(2**3)+(2**2)-1(1**2)=35\n",
    "# f'(y)(1,2)=6(1**2)*(2**2)+2(1*2)=28\n",
    "\n",
    "from sympy import *\n",
    "x, y = symbols('x y')\n",
    "dx = diff(2*(x**2)*(y**3) + 1/x+(y**2)*x+7, x)\n",
    "dy = diff(2*(x**2)*(y**3) + 1/x+(y**2)*x+7, y)\n",
    "\n",
    "print(f'Производная функции по x: {dx}')\n",
    "print(f'Производная функции по y: {dy}')"
   ]
  },
  {
   "cell_type": "code",
   "execution_count": 22,
   "metadata": {},
   "outputs": [
    {
     "name": "stdout",
     "output_type": "stream",
     "text": [
      "Производная функции по x: 2*x*y - 2*x*sin(x**2) - y*cos(x*y)\n",
      "Производная функции по y: x**2 - x*cos(x*y) + 6\n"
     ]
    }
   ],
   "source": [
    "# 2) \n",
    "\n",
    "# в ручную\n",
    "# dx = 2*x*y - 2*x*sin(x**2) - y*cos(x*y)\n",
    "# dy = x**2 - x*cos(x*y) + 6\n",
    "\n",
    "# Производная функции в заданной точке-точка не задана. Пропускаю\n",
    "from sympy import *\n",
    "x, y = symbols('x y')\n",
    "dx = diff((x**2)*y - sin(x*y)+cos(x**2)+6*y, x)\n",
    "dy = diff((x**2)*y - sin(x*y)+cos(x**2)+6*y, y)\n",
    "\n",
    "print(f'Производная функции по x: {dx}')\n",
    "print(f'Производная функции по y: {dy}')"
   ]
  },
  {
   "cell_type": "markdown",
   "metadata": {},
   "source": [
    "### Задание 2:\n",
    "\n",
    "Градиентный спуск своими руками"
   ]
  },
  {
   "cell_type": "code",
   "execution_count": 23,
   "metadata": {},
   "outputs": [],
   "source": [
    "def f(x):\n",
    "    return (x[0]**2) + (x[1]**2) "
   ]
  },
  {
   "cell_type": "code",
   "execution_count": 60,
   "metadata": {},
   "outputs": [],
   "source": [
    "# Что такое? Начальное приближение\n",
    "x0 = np.array([100, 200])\n",
    "x = x0.copy()\n",
    "# gamma - шаг градиента\n",
    "lr = 0.1\n",
    "# c0, c1 = (1, 2)\n",
    "\n"
   ]
  },
  {
   "cell_type": "code",
   "execution_count": 61,
   "metadata": {},
   "outputs": [
    {
     "name": "stdout",
     "output_type": "stream",
     "text": [
      "[-0.05 -0.05]\n"
     ]
    }
   ],
   "source": [
    "# Цикл по расчету градиента из начального представления\n",
    "for i in range(10000):\n",
    "    # Calculate gradient\n",
    "    grad = scipy.optimize.approx_fprime(x, f, lr) # Your code here (функция для вычисления градиента есть в лекционном ноутбуке)\n",
    "    # Update x with gradient\n",
    "    x = x - lr * grad\n",
    "\n",
    "print(x)\n",
    "# approx_fprime"
   ]
  },
  {
   "cell_type": "code",
   "execution_count": 62,
   "metadata": {},
   "outputs": [
    {
     "name": "stdout",
     "output_type": "stream",
     "text": [
      "Optimization terminated successfully.\n",
      "         Current function value: 0.000000\n",
      "         Iterations: 59\n",
      "         Function evaluations: 109\n"
     ]
    }
   ],
   "source": [
    "res = minimize(f, x, method='nelder-mead', options={'xtol': 1e-8, 'disp': True})"
   ]
  },
  {
   "cell_type": "code",
   "execution_count": 63,
   "metadata": {},
   "outputs": [
    {
     "name": "stdout",
     "output_type": "stream",
     "text": [
      "Минимум достигается в:  [-0.05 -0.05]\n",
      "Значение функции в минимуме:  0.0049999999999999975\n"
     ]
    }
   ],
   "source": [
    "print(\"Минимум достигается в: \", x)\n",
    "print(\"Значение функции в минимуме: \", f(x))"
   ]
  },
  {
   "cell_type": "markdown",
   "metadata": {},
   "source": [
    "Проверка с помощью встроенной функции numpy: "
   ]
  },
  {
   "cell_type": "code",
   "execution_count": 64,
   "metadata": {},
   "outputs": [
    {
     "name": "stdout",
     "output_type": "stream",
     "text": [
      "[0. 0.]\n"
     ]
    }
   ],
   "source": [
    "grad_numpy = np.gradient(x)\n",
    "print(grad_numpy)"
   ]
  }
 ],
 "metadata": {
  "kernelspec": {
   "display_name": "Python 3",
   "language": "python",
   "name": "python3"
  },
  "language_info": {
   "codemirror_mode": {
    "name": "ipython",
    "version": 3
   },
   "file_extension": ".py",
   "mimetype": "text/x-python",
   "name": "python",
   "nbconvert_exporter": "python",
   "pygments_lexer": "ipython3",
   "version": "3.6.5"
  }
 },
 "nbformat": 4,
 "nbformat_minor": 2
}
