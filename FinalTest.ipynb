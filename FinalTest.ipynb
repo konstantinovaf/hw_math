{
 "cells": [
  {
   "cell_type": "code",
   "execution_count": 8,
   "metadata": {},
   "outputs": [],
   "source": [
    "import matplotlib.pyplot as plt\n",
    "import numpy as np\n",
    "\n",
    "from scipy.optimize import minimize\n",
    "%matplotlib inline"
   ]
  },
  {
   "cell_type": "markdown",
   "metadata": {},
   "source": [
    "### Задание 1"
   ]
  },
  {
   "cell_type": "markdown",
   "metadata": {},
   "source": [
    "Дана матрица рейтингов фильмов (строки - пользователи (10 человек), столбцы - фильмы (15 фильмов))"
   ]
  },
  {
   "cell_type": "code",
   "execution_count": 9,
   "metadata": {},
   "outputs": [],
   "source": [
    "raitings = np.array([[ 4,  4,  9,  4,  1,  6, 10,  7,  9,  6,  9,  2,  8,  6,  6],\n",
    "                     [ 9,  2,  5, 10,  7,  8, 10,  5,  6,  2,  1,  6,  8,  9,  7],\n",
    "                     [ 1,  6,  8,  8,  4,  9,  3,  8, 10,  5,  2,  6,  8,  1,  6],\n",
    "                     [ 6,  1,  9,  7,  7,  9,  2,  3,  5,  1,  6,  6,  3,  2,  7],\n",
    "                     [ 3,  7,  3,  5,  7,  9,  9,  6,  2,  9,  1,  2,  8, 10,  6],\n",
    "                     [ 8,  3,  7,  3,  8,  6,  1,  8,  8,  6,  1,  9,  4, 10,  1],\n",
    "                     [ 9,  8,  4,  8,  8, 10,  6,  1,  1,  2,  9,  5,  2,  7,  2],\n",
    "                     [ 4,  1,  6,  4,  3, 10,  4,  4,  2,  8,  7,  9,  3,  8,  3],\n",
    "                     [ 2,  7,  7,  6, 10,  6,  8,  9,  8,  6, 10,  1,  7, 10,  4],\n",
    "                     [ 5, 10,  8,  8,  9,  7,  2,  9,  9, 10,  8,  8,  8,  6, 10]])"
   ]
  },
  {
   "cell_type": "markdown",
   "metadata": {},
   "source": [
    "<b> a) </b> Необходимо найти наиболее похожего пользователя по косинусной метрике для каждого из (ответ: 10 пар вида (x, y), где y - наиболее похожий пользователь на пользователя x)."
   ]
  },
  {
   "cell_type": "code",
   "execution_count": 10,
   "metadata": {},
   "outputs": [
    {
     "name": "stdout",
     "output_type": "stream",
     "text": [
      "0 6\n",
      "1 7\n",
      "2 6\n",
      "3 4\n",
      "4 3\n",
      "5 6\n",
      "6 2\n",
      "7 2\n",
      "8 3\n",
      "9 6\n"
     ]
    }
   ],
   "source": [
    "import numpy as np\n",
    "import scipy.spatial.distance as ds\n",
    "\n",
    "for i in range(10):\n",
    "    max_dis = 0\n",
    "    num_closed_vector = 0\n",
    "    for j in range(10):\n",
    "        if i==j:\n",
    "            pass\n",
    "        else:\n",
    "            dis=ds.cosine(raitings[i], raitings[j])\n",
    "            if max_dis < dis:\n",
    "                max_dis = dis\n",
    "                num_closed_vector = j\n",
    "            else:\n",
    "                pass\n",
    "    print (i, num_closed_vector)\n",
    "       "
   ]
  },
  {
   "cell_type": "markdown",
   "metadata": {},
   "source": [
    "<b> b) </b>Предположим, вы захотели сжать признаковые описания пользователя с 15 фильмов, до, скажем, 5-ти признаков, как вы это сделаете?"
   ]
  },
  {
   "cell_type": "code",
   "execution_count": 11,
   "metadata": {},
   "outputs": [
    {
     "data": {
      "text/plain": [
       "array([[-5.30986101,  1.92919845, -4.93300027,  2.70188013,  5.50497886],\n",
       "       [ 2.87763403,  2.71659559,  1.40592782,  7.26325751, -4.50322291],\n",
       "       [-4.94010408, -6.68861167, -0.94550184,  3.61556661, -0.68969272],\n",
       "       [ 5.14939908, -6.28027284, -4.65978558,  1.09024004, -1.01471112],\n",
       "       [-1.37488691,  7.54357985,  4.00834369,  2.1284001 , -0.16324949],\n",
       "       [ 2.65341956, -3.77075601,  8.58430748, -1.46628319,  1.67401769],\n",
       "       [ 8.61573944,  3.78603335, -4.02721027, -4.37582577, -3.13880277],\n",
       "       [ 5.39658258, -1.0170466 ,  1.01456742, -1.89512837,  6.54883538],\n",
       "       [-5.7843488 ,  5.29857107, -1.48083611, -3.71295542,  0.21312695],\n",
       "       [-7.2835739 , -3.51729118,  1.03318766, -5.34915166, -4.43127987]])"
      ]
     },
     "execution_count": 11,
     "metadata": {},
     "output_type": "execute_result"
    }
   ],
   "source": [
    "# С помощью PCA\n",
    "from sklearn.decomposition import PCA\n",
    "from numpy import transpose\n",
    "\n",
    "pca = PCA(n_components = 5)\n",
    "raitings_PCAreduced = pca.fit_transform((raitings))\n",
    "raitings_PCAreduced"
   ]
  },
  {
   "cell_type": "code",
   "execution_count": 12,
   "metadata": {},
   "outputs": [
    {
     "name": "stdout",
     "output_type": "stream",
     "text": [
      "0 5\n",
      "1 9\n",
      "2 6\n",
      "3 4\n",
      "4 3\n",
      "5 0\n",
      "6 2\n",
      "7 9\n",
      "8 3\n",
      "9 7\n"
     ]
    }
   ],
   "source": [
    "# Для проверки запустим тожде самое, только на сокращенной размерности.\n",
    "import numpy as np\n",
    "import scipy.spatial.distance as ds\n",
    "\n",
    "for i in range(10):\n",
    "    max_dis = 0\n",
    "    num_closed_vector = 0\n",
    "    for j in range(10):\n",
    "        if i==j:\n",
    "            pass\n",
    "        else:\n",
    "            dis=ds.cosine(raitings_PCAreduced[i], raitings_PCAreduced[j])\n",
    "            if max_dis < dis:\n",
    "                max_dis = dis\n",
    "                num_closed_vector = j\n",
    "            else:\n",
    "                pass\n",
    "    print (i, num_closed_vector)\n",
    "# Некоторые соотношения X-Y совпадают с полным набором данных. Надо понимать что мы потеряли часть данных при сниженнии размерности "
   ]
  },
  {
   "cell_type": "markdown",
   "metadata": {},
   "source": [
    "### Задание 2"
   ]
  },
  {
   "cell_type": "markdown",
   "metadata": {},
   "source": [
    "Вычислите производную $tg^2(sin(x) + cos(2x+3))$ в точке $x_0=1$ на python и на бумаге (просто подставить точку в производную и ничего не упрощать)."
   ]
  },
  {
   "cell_type": "code",
   "execution_count": 13,
   "metadata": {},
   "outputs": [],
   "source": [
    "def f(x):\n",
    "    return np.tan(np.sin(x)+ np.cos(2*x+3))**2"
   ]
  },
  {
   "cell_type": "code",
   "execution_count": 14,
   "metadata": {},
   "outputs": [
    {
     "name": "stdout",
     "output_type": "stream",
     "text": [
      "[57.06531269460301]\n"
     ]
    }
   ],
   "source": [
    "# Первая производная равна\n",
    "# На бумаге\n",
    "# 2*(1 + tan(sin(x) + cos(2*x + 3))^2)*(-2*sin(2*x + 3) + cos(x))*tan(sin(x) + cos(2*x + 3))\n",
    "\n",
    "#Определение точки \n",
    "x0=1\n",
    "# Order of the derivative. Default is 1.\n",
    "n1=1\n",
    "\n",
    "from scipy.misc import derivative\n",
    "# The point at which n-th derivative is found.\n",
    "f1x =[derivative(f, x0=x0, n=n1, order = n1+2)]\n",
    "print(f1x)  "
   ]
  },
  {
   "cell_type": "markdown",
   "metadata": {},
   "source": [
    "### Задание 3"
   ]
  },
  {
   "cell_type": "markdown",
   "metadata": {},
   "source": [
    "Дана функция с неизвестными параметрами a и b, вам также известны значения функции fx в точках x. Найдите оптимальные параметры a, b, минимизирующие абсолютную ошибку <b>error</b>"
   ]
  },
  {
   "cell_type": "code",
   "execution_count": 15,
   "metadata": {},
   "outputs": [],
   "source": [
    "def f(x, a, b):\n",
    "    return np.e**a * np.sin(b*x) + x"
   ]
  },
  {
   "cell_type": "code",
   "execution_count": 16,
   "metadata": {},
   "outputs": [],
   "source": [
    "x = np.array([0.        , 0.26315789, 0.52631579, 0.78947368, 1.05263158,\n",
    "              1.31578947, 1.57894737, 1.84210526, 2.10526316, 2.36842105,\n",
    "              2.63157895, 2.89473684, 3.15789474, 3.42105263, 3.68421053,\n",
    "              3.94736842, 4.21052632, 4.47368421, 4.73684211, 5.        ])"
   ]
  },
  {
   "cell_type": "code",
   "execution_count": 17,
   "metadata": {},
   "outputs": [],
   "source": [
    "fx = np.array([  0.        , -12.01819092, -18.90968634, -17.68786571,\n",
    "                -8.7529108 ,   4.27524517,  16.06801336,  21.81250213,\n",
    "                19.22059845,   9.48411207,  -3.22273056, -13.48576488,\n",
    "               -16.91096359, -11.95866834,  -0.58630088,  12.56873816,\n",
    "                22.12489421,  24.20292139,  18.04522521,   6.33211092])"
   ]
  },
  {
   "cell_type": "code",
   "execution_count": 18,
   "metadata": {},
   "outputs": [
    {
     "data": {
      "image/png": "[encoded data removed]",
      "text/plain": [
       "<Figure size 432x288 with 1 Axes>"
      ]
     },
     "metadata": {},
     "output_type": "display_data"
    }
   ],
   "source": [
    "plt.plot(x, fx)\n",
    "\n",
    "plt.show()"
   ]
  },
  {
   "cell_type": "code",
   "execution_count": 19,
   "metadata": {},
   "outputs": [],
   "source": [
    "def error(params):\n",
    "    return np.sum(np.abs(fx - f(x, params[0], params[1])))"
   ]
  },
  {
   "cell_type": "code",
   "execution_count": 20,
   "metadata": {
    "scrolled": true
   },
   "outputs": [
    {
     "name": "stdout",
     "output_type": "stream",
     "text": [
      "Optimization terminated successfully.\n",
      "         Current function value: 228.356720\n",
      "         Iterations: 109\n",
      "         Function evaluations: 207\n",
      "[1.95282585 1.56625208]\n"
     ]
    }
   ],
   "source": [
    "# Дано Х, Y, и функция f(x, a, b).\n",
    "# Параметры a,b надо подобрать MAE->min\n",
    "from scipy.optimize import minimize\n",
    "\n",
    "# Зададим начальные условия a и b\n",
    "params = [1,1]\n",
    "# params[1]\n",
    "result = minimize(error, params, method='nelder-mead', options={'xtol': 1e-8, 'disp': True})\n",
    "\n",
    "if result.success:\n",
    "    fitted_params = result.x\n",
    "    print(fitted_params)\n",
    "else:\n",
    "    raise ValueError(result.message)\n",
    "\n",
    "# a=1.95282585\n",
    "# b=1.56625208\n"
   ]
  },
  {
   "cell_type": "code",
   "execution_count": 27,
   "metadata": {},
   "outputs": [
    {
     "name": "stdout",
     "output_type": "stream",
     "text": [
      "[ 0.          3.08681812  5.70069042  7.44788637  8.07983872  7.53477662\n",
      "  5.94807195  3.62956556  1.01167035 -1.42305463 -3.22273056 -4.04184521\n",
      " -3.69912456 -2.20789491  0.22614928  3.23939761  6.37122685  9.14115179\n",
      " 11.12930438 12.04675836]\n"
     ]
    }
   ],
   "source": [
    "# \n",
    "a, b = fitted_params\n",
    "y_x=f(x, a,b)\n",
    "print(y_x)\n",
    "# print(b)"
   ]
  },
  {
   "cell_type": "code",
   "execution_count": 28,
   "metadata": {},
   "outputs": [
    {
     "data": {
      "image/png": "[encoded data removed]",
      "text/plain": [
       "<Figure size 432x288 with 1 Axes>"
      ]
     },
     "metadata": {},
     "output_type": "display_data"
    }
   ],
   "source": [
    "# Визуально проверяем что получилось по результатам оптимизации. Видно что графики значительно отличаются\n",
    "y_x=f(x, a,b)\n",
    "plt.plot(x, y_x)\n",
    "plt.plot(x, fx)\n",
    "plt.show()"
   ]
  },
  {
   "cell_type": "code",
   "execution_count": 29,
   "metadata": {},
   "outputs": [
    {
     "data": {
      "text/plain": [
       "     fun: 1.5130289208187264e-06\n",
       " message: 'Optimization terminated successfully.'\n",
       "    nfev: 2073\n",
       "     nit: 66\n",
       " success: True\n",
       "       x: array([ 3. , -2.5])"
      ]
     },
     "execution_count": 29,
     "metadata": {},
     "output_type": "execute_result"
    }
   ],
   "source": [
    "# Я понимаю, что не при всех начальных значениях nelder-mead сходится. Мне важно, чтобы было понятно, \n",
    "# что вы нашли не совсем те.\n",
    "# Во-первых можно отрисовать точки и полученный график с вашими коэффициентами, сразу будет видно.\n",
    "# Также у вас в ходе процесса оптимизации у получилось Current function value: 228.356720. \n",
    "# Это многовато, потому что я не добавлял никакого шума в данные, в идеале должно быть около 0. \n",
    "# Можно использовать эволюцию, \n",
    "# поперезапускать с разными начальными приближениями nelder-mead, в общем, всё, что угодно, никаких ограничений нет.\n",
    "import numpy as np\n",
    "from scipy.optimize import differential_evolution\n",
    "\n",
    "bounds = [(-10, 10), (-10, 10)]\n",
    "result = differential_evolution(error, bounds, seed=42)\n",
    "result"
   ]
  },
  {
   "cell_type": "code",
   "execution_count": 30,
   "metadata": {},
   "outputs": [],
   "source": [
    "# поэкспериментируйте с параметрами алгоритма: strategy, maxiter, popsize, tol, mutation, recombination и updating.\n",
    "strategy_list = ['best1bin', \n",
    "                 'best1exp', \n",
    "                 'rand1exp', \n",
    "                 'randtobest1exp', \n",
    "                 'currenttobest1exp', \n",
    "                 'best2exp', \n",
    "                 'rand2exp', \n",
    "                 'randtobest1bin',\n",
    "                 'currenttobest1bin', \n",
    "                 'best2bin', \n",
    "                 'rand2bin', \n",
    "                 'rand1bin']\n",
    "nit = []"
   ]
  },
  {
   "cell_type": "code",
   "execution_count": 31,
   "metadata": {},
   "outputs": [
    {
     "name": "stdout",
     "output_type": "stream",
     "text": [
      "The differential evolution strategy: best1bin. \n",
      "      fun: 1.5130289208187264e-06\n",
      " message: 'Optimization terminated successfully.'\n",
      "    nfev: 2073\n",
      "     nit: 66\n",
      " success: True\n",
      "       x: array([ 3. , -2.5]).\n",
      "The differential evolution strategy: best1exp. \n",
      "      fun: 1.5134058353183377e-06\n",
      "     jac: array([133.86040774, 502.12810905])\n",
      " message: 'Optimization terminated successfully.'\n",
      "    nfev: 2910\n",
      "     nit: 94\n",
      " success: True\n",
      "       x: array([ 3. , -2.5]).\n",
      "The differential evolution strategy: rand1exp. \n",
      "      fun: 1.511662666153768e-06\n",
      "     jac: array([142.54031591, 501.88798779])\n",
      " message: 'Optimization terminated successfully.'\n",
      "    nfev: 5250\n",
      "     nit: 172\n",
      " success: True\n",
      "       x: array([ 3. , -2.5]).\n",
      "The differential evolution strategy: randtobest1exp. \n",
      "      fun: 1.5109927442580329e-06\n",
      " message: 'Optimization terminated successfully.'\n",
      "    nfev: 3393\n",
      "     nit: 110\n",
      " success: True\n",
      "       x: array([ 3. , -2.5]).\n",
      "The differential evolution strategy: currenttobest1exp. \n",
      "      fun: 1.5112000362194067e-06\n",
      " message: 'Optimization terminated successfully.'\n",
      "    nfev: 3783\n",
      "     nit: 123\n",
      " success: True\n",
      "       x: array([ 3. , -2.5]).\n",
      "The differential evolution strategy: best2exp. \n",
      "      fun: 1.51122269542725e-06\n",
      "     jac: array([140.61408473, 502.39052864])\n",
      " message: 'Optimization terminated successfully.'\n",
      "    nfev: 5310\n",
      "     nit: 174\n",
      " success: True\n",
      "       x: array([ 3. , -2.5]).\n",
      "The differential evolution strategy: rand2exp. \n",
      "      fun: 231.63056301057316\n",
      " message: 'Optimization terminated successfully.'\n",
      "    nfev: 474\n",
      "     nit: 4\n",
      " success: True\n",
      "       x: array([ 0.03944394, -2.40499462]).\n",
      "The differential evolution strategy: randtobest1bin. \n",
      "      fun: 1.5109877198327126e-06\n",
      " message: 'Optimization terminated successfully.'\n",
      "    nfev: 2163\n",
      "     nit: 69\n",
      " success: True\n",
      "       x: array([ 3. , -2.5]).\n",
      "The differential evolution strategy: currenttobest1bin. \n",
      "      fun: 1.5113410798406335e-06\n",
      " message: 'Optimization terminated successfully.'\n",
      "    nfev: 2493\n",
      "     nit: 80\n",
      " success: True\n",
      "       x: array([ 3. , -2.5]).\n",
      "The differential evolution strategy: best2bin. \n",
      "      fun: 1.5111630737862924e-06\n",
      "     jac: array([139.20897528, 502.67475817])\n",
      " message: 'Optimization terminated successfully.'\n",
      "    nfev: 3993\n",
      "     nit: 130\n",
      " success: True\n",
      "       x: array([ 3. , -2.5]).\n",
      "The differential evolution strategy: rand2bin. \n",
      "      fun: 228.35672006154732\n",
      "     jac: array([4.1389228 , 7.29234841])\n",
      " message: 'Optimization terminated successfully.'\n",
      "    nfev: 288\n",
      "     nit: 4\n",
      " success: True\n",
      "       x: array([1.95290674, 1.56620625]).\n",
      "The differential evolution strategy: rand1bin. \n",
      "      fun: 1.5107132078640007e-06\n",
      " message: 'Optimization terminated successfully.'\n",
      "    nfev: 3243\n",
      "     nit: 105\n",
      " success: True\n",
      "       x: array([ 3. , -2.5]).\n"
     ]
    }
   ],
   "source": [
    "# The differential evolution strategy to use.\n",
    "for i in strategy_list:\n",
    "    result = differential_evolution(error, bounds, seed=42, strategy = i)\n",
    "    nit.append(int(result.nit))\n",
    "    \n",
    "    print(f'The differential evolution strategy: {i}. \\n {result}.')"
   ]
  },
  {
   "cell_type": "code",
   "execution_count": 37,
   "metadata": {},
   "outputs": [
    {
     "data": {
      "image/png": "[encoded data removed]",
      "text/plain": [
       "<Figure size 432x288 with 1 Axes>"
      ]
     },
     "metadata": {},
     "output_type": "display_data"
    }
   ],
   "source": [
    "# ответ\n",
    "a, b = result.x\n",
    "\n",
    "# Проверяем графиками\n",
    "y_x=f(x, a,b)\n",
    "plt.plot(x, y_x)\n",
    "plt.plot(x, fx)\n",
    "plt.show()\n",
    "# Графики полностью совпадают"
   ]
  },
  {
   "cell_type": "markdown",
   "metadata": {},
   "source": [
    "### Задание 4"
   ]
  },
  {
   "cell_type": "markdown",
   "metadata": {},
   "source": [
    "Создайте собственную дискретную случайную величину с 20 значениями. Сгенерируйте 1000 выборок размера 50. Посчитайте среднее для каждой выборки. Постройте гистограмму распределения средних."
   ]
  },
  {
   "cell_type": "code",
   "execution_count": 56,
   "metadata": {},
   "outputs": [
    {
     "name": "stdout",
     "output_type": "stream",
     "text": [
      "10.0 5.0\n"
     ]
    }
   ],
   "source": [
    "# \n",
    "from statistics import mean\n",
    "from scipy.stats import *\n",
    "import random\n",
    "import seaborn\n",
    "\n",
    "# Создайте собственную дискретную случайную величину с 20 значениями.\n",
    "n0=20\n",
    "p0=0.5\n",
    "# Биномиальное распределение\n",
    "rv = binom(p, n)\n",
    "mean, var, _, _ = binom.stats(n0, p0, moments='mvsk')\n",
    "print(mean, var)"
   ]
  },
  {
   "cell_type": "code",
   "execution_count": 67,
   "metadata": {},
   "outputs": [
    {
     "name": "stdout",
     "output_type": "stream",
     "text": [
      "Среднее значение равно:9.9929 при размере выборки: 50 и количестве выборок: 1000\n"
     ]
    },
    {
     "data": {
      "image/png": "[encoded data removed]",
      "text/plain": [
       "<Figure size 432x288 with 1 Axes>"
      ]
     },
     "metadata": {},
     "output_type": "display_data"
    }
   ],
   "source": [
    "# Сгенерируйте 1000 выборок размера 50. Посчитайте среднее для каждой выборки. \n",
    "# Постройте гистограмму распределения средних.\n",
    "\n",
    "#параметры запуска: размеры выборок и количество повторов генерации\n",
    "n1 = 50\n",
    "samples_count = 1000\n",
    "# sample1 = bin.rvs(size=n1)\n",
    "# rv0 = binom.rvs(n=n0,p=p0,loc=0,size=n1)\n",
    "# data=\n",
    "# data\n",
    "#массивы для сохранения средних по выборкам\n",
    "a1 = np.array([])\n",
    "\n",
    "for number in range(samples_count):\n",
    "    # на каждом цикле генерируем выборки разных размеров\n",
    "    sample1 = binom.rvs(n=n0,p=p0,loc=0,size=n1)\n",
    "    mean_i=sum(sample1)/n1#определение выборочного среднего (в.с.)\n",
    "    # считаем среднее по каждой выборке и добавляем в массив средних\n",
    "    a1 = np.append(a1, sample1.mean())\n",
    "\n",
    "    #строим графики\n",
    "#подписи для графиков\n",
    "label_1 = 'sample of ' + str(n1) + ' histogram'\n",
    "plt.hist(a1, density=True, label=label_1)\n",
    "\n",
    "plt.legend()\n",
    "plt.ylabel('samples means')\n",
    "plt.xlabel('$x$')\n",
    "from statistics import mean \n",
    "print(f'Среднее значение равно:{mean(a1)} при размере выборки: {n1} и количестве выборок: {samples_count}')"
   ]
  },
  {
   "cell_type": "markdown",
   "metadata": {},
   "source": [
    "### Задание 5"
   ]
  },
  {
   "cell_type": "markdown",
   "metadata": {},
   "source": [
    "Найдите собственные значения и собственные вектора матрицы (на python и на бумаге)\n",
    "\n",
    "[[1, 4],\n",
    "\n",
    " [1, 1]]"
   ]
  },
  {
   "cell_type": "code",
   "execution_count": 33,
   "metadata": {},
   "outputs": [
    {
     "data": {
      "text/plain": [
       "(array([ 3., -1.]), array([[ 0.89442719, -0.89442719],\n",
       "        [ 0.4472136 ,  0.4472136 ]]))"
      ]
     },
     "execution_count": 33,
     "metadata": {},
     "output_type": "execute_result"
    }
   ],
   "source": [
    "# На бумаге\n",
    "# # Собственное значение \n",
    "# -1, 3\n",
    "# # Собственный вектор\n",
    "u1=[-2, 1]\n",
    "u2=[2, 1]\n",
    "\n",
    "# В Python\n",
    "from scipy import linalg\n",
    "# Собственные вектора методом NumPy получились другие.\n",
    "m = np.array([[1, 4],\n",
    "              [1, 1]])\n",
    "\n",
    "np.linalg.eig(m)"
   ]
  }
 ],
 "metadata": {
  "kernelspec": {
   "display_name": "Python 3",
   "language": "python",
   "name": "python3"
  },
  "language_info": {
   "codemirror_mode": {
    "name": "ipython",
    "version": 3
   },
   "file_extension": ".py",
   "mimetype": "text/x-python",
   "name": "python",
   "nbconvert_exporter": "python",
   "pygments_lexer": "ipython3",
   "version": "3.6.5"
  }
 },
 "nbformat": 4,
 "nbformat_minor": 2
}
