{
 "cells": [
  {
   "cell_type": "markdown",
   "metadata": {
    "colab_type": "text",
    "id": "hTHl3kyDWIGO"
   },
   "source": [
    "# Математики для data science.\n",
    "# Домашнее задание 2."
   ]
  },
  {
   "cell_type": "markdown",
   "metadata": {
    "colab_type": "text",
    "id": "OAJG6826Pnft"
   },
   "source": [
    "**Задание на отображение множеств.**"
   ]
  },
  {
   "cell_type": "markdown",
   "metadata": {
    "colab_type": "text",
    "id": "lHtJSvE3Pt9i"
   },
   "source": [
    "**Задание 1.**"
   ]
  },
  {
   "cell_type": "markdown",
   "metadata": {
    "colab_type": "text",
    "id": "pRTF1ROCPxoR"
   },
   "source": [
    "Написать функцию отображения элементов одного множества в другое. Первое множество - художники, второе множество - картины художников.\n",
    "Множество художников - Серов, Левитан, Репин, Васнецов, Шишкин. \n",
    "Множество картин - \"Утро в сосновом бору\", \"Богатыри\", \"Золотая осень\", \"Девочка с персиками\", \"Запорожцы\", \"Буралки на Волге\", \"Март\", \"Алёнушка\". \n"
   ]
  },
  {
   "cell_type": "code",
   "execution_count": 2,
   "metadata": {},
   "outputs": [
    {
     "name": "stdout",
     "output_type": "stream",
     "text": [
      "{'Шишкин': ['Утро в сосновом бору'], 'Васнецов': ['Богатыри', 'Алёнушка'], 'Левитан': ['Золотая осень', 'Март'], 'Серов': ['Девочка с персиками'], 'Репин': ['Запорожцы', 'Буралки на Волге']}\n"
     ]
    }
   ],
   "source": [
    "painters = set(['Серов', 'Левитан', 'Репин', 'Васнецов', 'Шишкин'])\n",
    "dict_painters = dict()\n",
    "dict_painters['Шишкин'] = ['Утро в сосновом бору']\n",
    "dict_painters['Васнецов'] = ['Богатыри', 'Алёнушка']\n",
    "dict_painters['Левитан'] = ['Золотая осень', 'Март']\n",
    "dict_painters['Серов'] = ['Девочка с персиками']\n",
    "dict_painters['Репин'] = ['Запорожцы', 'Буралки на Волге']\n",
    "print(dict_painters)"
   ]
  },
  {
   "cell_type": "markdown",
   "metadata": {
    "colab_type": "text",
    "id": "4QwS5m7CWXY3"
   },
   "source": [
    "**Полиномиальные функции.**"
   ]
  },
  {
   "cell_type": "markdown",
   "metadata": {
    "colab_type": "text",
    "id": "thQjcSL7WbIY"
   },
   "source": [
    "**Задание 2**. Найти из следующих функций те, которые являются полиномиальной функцией."
   ]
  },
  {
   "cell_type": "markdown",
   "metadata": {
    "colab_type": "text",
    "id": "GbDQjj-pWjqm"
   },
   "source": [
    "*  $$f(x)=\\frac{1}{2}x^{6}-1\\frac{5}{6}x+\\frac{1}{3}$$\n",
    "*  $$f(x)=\\frac{3x^{6}-11x+2}{6}$$\n",
    "*  $$f(x)=\\frac{3x^{6}-11x+2}{6x}$$\n",
    "*  $$f(x)=x^{5}-3x^{2}+7x^{-2}$$\n",
    "*  $$f(x)=(5x^{2}-2)^3-\\frac{1}{2}x^{3}$$\n",
    "*  $$f(x)=(1+\\sqrt{x})^{3}-5(1+\\sqrt{x})$$\n",
    "*  $$f(x)=\\pi $$\n",
    "\n"
   ]
  },
  {
   "cell_type": "markdown",
   "metadata": {},
   "source": [
    "Для проверки является ли функция полиномиальной, необходимо ее упростить \n",
    "и проверить, является ли упрощенная функция \n",
    "стандартной формой полиномиальной функции\n",
    "n-степень многочлена принадлежит N-множеству натуральных чисел.\n",
    "1. Общий знаменатель: 0.333333333333333 + 0.5*x^6 - 1.83333333333333*x Ответ: да\n",
    "2. Общий знаменатель: 0.333333333333333 + 0.5*x^6 - 1.83333333333333*x Ответ: да\n",
    "3. Общий знаменатель: 0.166666666666667*(2.0 + 3.0*x^6 - 11.0*x)/x Ответ: нет\n",
    "4. Общий знаменатель: x^5 + 7.0/x^2 - 3.0*x^2 Ответ: нет\n",
    "5. Общий знаменатель: -8 - 150*x^4 + 60*x^2 + 125*x^6 - x^3/2 Ответ: нет\n",
    "6. Общий знаменатель: -4 + x^(3/2) - 2*sqrt(x) + 3*x Ответ: нет (^sqrt(x) не принадлежит N)\n",
    "7. Общий знаменатель: pi Ответ: да, полиномиальная функция вырождается в константную функцию"
   ]
  },
  {
   "cell_type": "markdown",
   "metadata": {
    "colab_type": "text",
    "id": "2SOZDLZQW9vK"
   },
   "source": [
    "**Задание 3**. Раскрыть скобки для следующего полинома $$(2x+1)^{2}(x-1)-x(4x^{2}-1)-x(4x^{2}-1)=ax^3+bx^2+cx+d$$ найти коэффициенты для a, b, c, d."
   ]
  },
  {
   "cell_type": "markdown",
   "metadata": {},
   "source": [
    "Промежуточные вычисления делал на бумаге\n",
    "-4x^3-x-1\n",
    "a = -4\n",
    "b = 0\n",
    "c = -1\n",
    "d = -1\n"
   ]
  },
  {
   "cell_type": "markdown",
   "metadata": {
    "colab_type": "text",
    "id": "FW0p4xjzIdRZ"
   },
   "source": [
    "Для данного задания полезно использовать следующие формулы сокращенного умножения:\n",
    "![alt text](https://sun9-38.userapi.com/c851232/v851232044/19c5b0/7Yy6qz-MUHA.jpg)"
   ]
  },
  {
   "cell_type": "markdown",
   "metadata": {
    "colab_type": "text",
    "id": "hETFA0bzXYdw"
   },
   "source": [
    "Чему равна степень полинома?"
   ]
  },
  {
   "cell_type": "markdown",
   "metadata": {
    "colab_type": "text",
    "id": "EH8FFbsvt64f"
   },
   "source": [
    "Нарисовать график для полинома."
   ]
  },
  {
   "cell_type": "code",
   "execution_count": 13,
   "metadata": {
    "colab": {},
    "colab_type": "code",
    "id": "wk89rocGSoYC"
   },
   "outputs": [
    {
     "data": {
      "image/png": "[encoded data removed]",
      "text/plain": [
       "<Figure size 432x288 with 1 Axes>"
      ]
     },
     "metadata": {},
     "output_type": "display_data"
    }
   ],
   "source": [
    "import numpy as np\n",
    "import matplotlib.pyplot as plt\n",
    "\n",
    "def func1(x):\n",
    "    y = 3*x*x+6*x+1.5  \n",
    "    return y\n",
    "  # написать функцию\n",
    "  \n",
    "# создаем вектор x\n",
    "x1 = np.linspace(-3.0, 3.0, 100)\n",
    "# на основе вектора x строим значения для вектора y\n",
    "y1 = [func1(x1[i]) for i in range(len(x1))]\n",
    "\n",
    "plt.plot(x1, y1)\n",
    "plt.title('График функции')\n",
    "plt.ylabel('y')\n",
    "plt.xlabel('x')\n",
    "plt.show()"
   ]
  },
  {
   "cell_type": "markdown",
   "metadata": {
    "colab_type": "text",
    "id": "YnGld7mvZNUB"
   },
   "source": [
    "**Задание 3**.\n",
    "Для заданных функций найти подходящий график (не все функции имеют график):\n",
    "$\\frac{3}{4}x-1$,  \n",
    "$\\frac{3}{4}x+2$, \n",
    "$2-2x$,\n",
    "$2+2x$, \n",
    "$\\frac{1}{4}(x+1)^{2}-2 $, \n",
    "$\\frac{1}{4}(x-1)^2-2$, \n",
    "$(x-1)(x-3)$, \n",
    "$(x+1)(x+3)$, \n",
    "$2-x^2$, \n",
    "$2-\\frac{1}{4}x^2$"
   ]
  },
  {
   "cell_type": "markdown",
   "metadata": {
    "colab_type": "text",
    "id": "8TCnR4urZX_A"
   },
   "source": [
    "![alt text](https://pp.userapi.com/c855532/v855532908/aadd4/uWjIZGDfw0s.jpg)\n"
   ]
  },
  {
   "cell_type": "markdown",
   "metadata": {},
   "source": [
    "Нумерация слева направо, \n",
    "Row0_Colunm0 = $\\frac{3}{4}x-1$,  \n",
    "Row0_Colunm1 = $2-x^2$, \n",
    "Row0_Colunm2 = $2-\\frac{1}{4}x^2$ \n",
    "Row1_Colunm0 = $\\frac{1}{4}(x+1)^{2}-2 $,\n",
    "Row1_Colunm1 = $2+2x$, \n",
    "Row1_Colunm2 = $\\frac{1}{4}(x-1)^2-2$"
   ]
  },
  {
   "cell_type": "markdown",
   "metadata": {
    "colab_type": "text",
    "id": "v4PsJSrlbGni"
   },
   "source": [
    "**Задание 4.** Найти минимальную степень следующего полинома:\n",
    "\n",
    "![alt text](https://pp.userapi.com/c855532/v855532908/aadcd/PZdPYTQT02A.jpg)"
   ]
  },
  {
   "cell_type": "code",
   "execution_count": null,
   "metadata": {},
   "outputs": [],
   "source": [
    "# Ответ: График полинома степени n пересекает ось OX не более чем n раз, где n — степень полинома\n",
    "#     То есть минимальное количество пересечений с осью ОХ = 5. Минимальная степень полинома 5\n"
   ]
  },
  {
   "cell_type": "markdown",
   "metadata": {
    "colab_type": "text",
    "id": "In-LISkBGJ1u"
   },
   "source": [
    "**Задания повышенного уровня**"
   ]
  },
  {
   "cell_type": "markdown",
   "metadata": {
    "colab_type": "text",
    "id": "FGmhJtvceZO6"
   },
   "source": [
    "Почему следующие функции не являются полиномиальными?\n",
    "$$y=5x^{-2}+1$$\n",
    "$$y=3x^{1/2}+2$$\n",
    "$$y=(5x+1)/(3x)$$"
   ]
  },
  {
   "cell_type": "code",
   "execution_count": null,
   "metadata": {},
   "outputs": [],
   "source": [
    "# Ответ: Степерь полинома не принадлежит пространству n (N) натруральных чисел "
   ]
  },
  {
   "cell_type": "markdown",
   "metadata": {
    "colab_type": "text",
    "id": "XyzbTtgEezLl"
   },
   "source": [
    "Найдите наибольшее и наименьшее значение функции $y = x^3 + 2x^2 + x + 3 $ на отрезке [-4;-1]. "
   ]
  },
  {
   "cell_type": "code",
   "execution_count": null,
   "metadata": {},
   "outputs": [],
   "source": [
    "# Производная 3x^2+4x+1\n"
   ]
  },
  {
   "cell_type": "code",
   "execution_count": 15,
   "metadata": {},
   "outputs": [
    {
     "data": {
      "text/plain": [
       "Text(0, 0.5, 'x')"
      ]
     },
     "execution_count": 15,
     "metadata": {},
     "output_type": "execute_result"
    },
    {
     "data": {
      "image/png": "[encoded data removed]",
      "text/plain": [
       "<Figure size 432x288 with 1 Axes>"
      ]
     },
     "metadata": {},
     "output_type": "display_data"
    }
   ],
   "source": [
    "x=np.linspace(-4.0, -1.0,100)\n",
    "y=[x[i]**3+2*x[i]**2+x[i]+3 for i in range(len(x))]\n",
    "plt.plot(x,y)\n",
    "plt.axvline(0, color = 'r')\n",
    "plt.axhline(0, color = 'r')\n",
    "plt.title('График полинома по заданию')\n",
    "plt.ylabel('y')\n",
    "plt.ylabel('x')\n",
    "\n"
   ]
  },
  {
   "cell_type": "code",
   "execution_count": 25,
   "metadata": {},
   "outputs": [
    {
     "name": "stdout",
     "output_type": "stream",
     "text": [
      "Минимальное значение y = -33\n",
      "Максимальное значение y = 3\n"
     ]
    }
   ],
   "source": [
    "# Видно что график равномерно возрастает. При x = -4 - минимальное значение. При х=-1 максимальное значение.\n",
    "# Подставляем в формулу, смотрим\n",
    "x_min = -4\n",
    "x_max = -1\n",
    "\n",
    "y_min=x_min**3+2*x_min**2+x_min+3\n",
    "y_max= x_max**3+2*x_max**2+x_max+3\n",
    "\n",
    "print(f'Минимальное значение y = {y_min}')\n",
    "print(f'Максимальное значение y = {y_max}')"
   ]
  },
  {
   "cell_type": "markdown",
   "metadata": {
    "colab_type": "text",
    "id": "zZwKoyIwf4SV"
   },
   "source": [
    "Пример линейной регрессии - это применение полиномов на практике. В следующем примере дан датасет x, y, сгенерированный рандомно. Мы можем использовать линейную регрессию, чтобы предсказать значение переменной y от x. "
   ]
  },
  {
   "cell_type": "code",
   "execution_count": 27,
   "metadata": {
    "colab": {
     "base_uri": "https://localhost:8080/",
     "height": 269
    },
    "colab_type": "code",
    "id": "wyWYYrGnWHVk",
    "outputId": "85df8263-3022-4a15-8a64-204ec3ec56a6",
    "scrolled": true
   },
   "outputs": [
    {
     "data": {
      "text/plain": [
       "<matplotlib.legend.Legend at 0x23c8735ba90>"
      ]
     },
     "execution_count": 27,
     "metadata": {},
     "output_type": "execute_result"
    },
    {
     "data": {
      "image/png": "[encoded data removed]",
      "text/plain": [
       "<Figure size 432x288 with 1 Axes>"
      ]
     },
     "metadata": {},
     "output_type": "display_data"
    }
   ],
   "source": [
    "import numpy as np\n",
    "import matplotlib.pyplot as plt\n",
    "\n",
    "from sklearn.linear_model import LinearRegression\n",
    "\n",
    "np.random.seed(0)\n",
    "x = 2 - 3 * np.random.normal(0, 1, 20)\n",
    "y = x - 2 * (x ** 2) + 0.5 * (x ** 3) + np.random.normal(-3, 3, 20)\n",
    "\n",
    "# transforming the data to include another axis\n",
    "x = x[:, np.newaxis]\n",
    "y = y[:, np.newaxis]\n",
    "\n",
    "model = LinearRegression()\n",
    "model.fit(x, y)\n",
    "y_predict = model.predict(x)\n",
    "\n",
    "# model.score() - модель делали в упрощенном виде, без разделения на train, test. \n",
    "# На сколько понимаю чтобы просто показать, что введение полинома улучшает качество некоторых моделей.\n",
    "# Будем придерживаться этой же логики, рисуем график\n",
    "plt.scatter(x, y, marker = 'o')\n",
    "plt.scatter(x,y_predict, marker = 'x')\n",
    "plt.legend(['Исходные данные','Полином 1 степени'])\n",
    "# Вывод: не очень точно отображает. Надо добавить PolynomialFeatures"
   ]
  },
  {
   "cell_type": "markdown",
   "metadata": {
    "colab_type": "text",
    "id": "_jdDSF1KhGCA"
   },
   "source": [
    "В данном примере найден полином первой степени. Как можно улучшить данную модель? Написать пример. "
   ]
  },
  {
   "cell_type": "code",
   "execution_count": 36,
   "metadata": {},
   "outputs": [
    {
     "data": {
      "text/plain": [
       "<matplotlib.legend.Legend at 0x23c887e7fd0>"
      ]
     },
     "execution_count": 36,
     "metadata": {},
     "output_type": "execute_result"
    },
    {
     "data": {
      "image/png": "[encoded data removed]",
      "text/plain": [
       "<Figure size 432x288 with 1 Axes>"
      ]
     },
     "metadata": {},
     "output_type": "display_data"
    }
   ],
   "source": [
    "# PolynomialFeatures\n",
    "from sklearn.preprocessing import PolynomialFeatures\n",
    "\n",
    "poly=PolynomialFeatures(degree=2)\n",
    "X_poly = poly.fit_transform(x) \n",
    "poly.fit(X_poly, y)\n",
    "model2 = LinearRegression()\n",
    "# Чтобы не переписывать код построения графика, название model оставим без изменений и скопируем код\n",
    "model = model2.fit(X_poly, y)\n",
    "y_predict = model.predict(poly.fit_transform(x))\n",
    "plt.scatter(x, y, marker = 'o')\n",
    "plt.scatter(x,y_predict, marker = 'x')\n",
    "plt.legend(['Исходные данные','Полином 2 степени'])"
   ]
  },
  {
   "cell_type": "code",
   "execution_count": 35,
   "metadata": {},
   "outputs": [
    {
     "data": {
      "text/plain": [
       "<matplotlib.legend.Legend at 0x23c88785898>"
      ]
     },
     "execution_count": 35,
     "metadata": {},
     "output_type": "execute_result"
    },
    {
     "data": {
      "image/png": "[encoded data removed]",
      "text/plain": [
       "<Figure size 432x288 with 1 Axes>"
      ]
     },
     "metadata": {},
     "output_type": "display_data"
    }
   ],
   "source": [
    "# Видно что с degree = 2 графики немного отличаются. Добавим степень полинома до 3\n",
    "poly=PolynomialFeatures(degree=3)\n",
    "X_poly = poly.fit_transform(x) \n",
    "poly.fit(X_poly, y)\n",
    "model2 = LinearRegression()\n",
    "# Чтобы не переписывать код построения графика, название model оставим без изменений и скопируем код\n",
    "model = model2.fit(X_poly, y)\n",
    "y_predict = model.predict(poly.fit_transform(x))\n",
    "plt.scatter(x, y, marker = 'o')\n",
    "plt.scatter(x,y_predict, marker = 'x')\n",
    "plt.legend(['Исходные данные','Полином 3 степени'])\n",
    "# Идеально)"
   ]
  }
 ],
 "metadata": {
  "colab": {
   "name": "Untitled2.ipynb",
   "provenance": []
  },
  "kernelspec": {
   "display_name": "Python 3",
   "language": "python",
   "name": "python3"
  },
  "language_info": {
   "codemirror_mode": {
    "name": "ipython",
    "version": 3
   },
   "file_extension": ".py",
   "mimetype": "text/x-python",
   "name": "python",
   "nbconvert_exporter": "python",
   "pygments_lexer": "ipython3",
   "version": "3.6.5"
  }
 },
 "nbformat": 4,
 "nbformat_minor": 1
}
